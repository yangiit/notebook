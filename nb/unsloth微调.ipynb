{
 "cells": [
  {
   "cell_type": "code",
   "execution_count": 1,
   "id": "45254d81-900c-4808-8c1a-092ae5147796",
   "metadata": {
    "ExecuteTime": {
     "end_time": "2025-05-01T17:01:38.267217Z",
     "start_time": "2025-05-01T17:00:27.261665Z"
    }
   },
   "outputs": [
    {
     "name": "stdout",
     "output_type": "stream",
     "text": [
      "🦥 Unsloth: Will patch your computer to enable 2x faster free finetuning.\n"
     ]
    },
    {
     "name": "stderr",
     "output_type": "stream",
     "text": [
      "/home/yang/anaconda3/envs/unsloth_env/lib/python3.11/site-packages/tqdm/auto.py:21: TqdmWarning: IProgress not found. Please update jupyter and ipywidgets. See https://ipywidgets.readthedocs.io/en/stable/user_install.html\n",
      "  from .autonotebook import tqdm as notebook_tqdm\n",
      "WARNING[XFORMERS]: xFormers can't load C++/CUDA extensions. xFormers was built for:\n",
      "    PyTorch 2.5.1 with CUDA 1201 (you have 2.7.0+cu126)\n",
      "    Python  3.11.10 (you have 3.11.11)\n",
      "  Please reinstall xformers (see https://github.com/facebookresearch/xformers#installing-xformers)\n",
      "  Memory-efficient attention, SwiGLU, sparse and more won't be available.\n",
      "  Set XFORMERS_MORE_DETAILS=1 for more details\n"
     ]
    },
    {
     "name": "stdout",
     "output_type": "stream",
     "text": [
      "🦥 Unsloth Zoo will now patch everything to make training faster!\n",
      "==((====))==  Unsloth 2025.4.3: Fast Qwen2 patching. Transformers: 4.51.3.\n",
      "   \\\\   /|    NVIDIA GeForce RTX 3060 Laptop GPU. Num GPUs = 1. Max memory: 6.0 GB. Platform: Linux.\n",
      "O^O/ \\_/ \\    Torch: 2.7.0+cu126. CUDA: 8.6. CUDA Toolkit: 12.6. Triton: 3.3.0\n",
      "\\        /    Bfloat16 = TRUE. FA [Xformers = None. FA2 = False]\n",
      " \"-____-\"     Free license: http://github.com/unslothai/unsloth\n",
      "Unsloth: Fast downloading is enabled - ignore downloading bars which are red colored!\n"
     ]
    },
    {
     "name": "stderr",
     "output_type": "stream",
     "text": [
      "Sliding Window Attention is enabled but not implemented for `eager`; unexpected results may be encountered.\n"
     ]
    },
    {
     "name": "stdout",
     "output_type": "stream",
     "text": [
      "/mnt/g/model/Qwen/Qwen2-0.5B/ does not have a padding token! Will use pad_token = <|PAD_TOKEN|>.\n"
     ]
    }
   ],
   "source": [
    "from unsloth import FastLanguageModel\n",
    "import torch\n",
    "\n",
    "max_seq_length = 2048  # 文本最大长度\n",
    "dtype = None # 自动发现数据类型\n",
    "load_in_4bit = True # 是否使用4bit加载模型\n",
    "\n",
    "# 加载预训练的FastLanguageModel模型及其对应的分词器（tokenizer）\n",
    "model, tokenizer = FastLanguageModel.from_pretrained(\n",
    "    # model_name=\"unsloth/Meta-LLama-3.1-8b\",  # 如果需要从Hugging Face远程下载模型，可以使用此注释掉的参数\n",
    "    model_name=\"/mnt/g/model/Qwen/Qwen2-0.5B/\",  # 指定本地已下载的模型路径，避免重复下载\n",
    "    max_seq_length=max_seq_length,  # 设置模型支持的最大序列长度\n",
    "    dtype=dtype,  # 指定模型权重的数据类型（例如：torch.float16 或 torch.bfloat16）\n",
    "    load_in_4bit=load_in_4bit  # 是否以4位量化方式加载模型，以减少显存占用\n",
    ")\n",
    "\n",
    "# 得到 model 模型和 tokenizer 解码器"
   ]
  },
  {
   "cell_type": "code",
   "execution_count": 2,
   "id": "89e688aca334806e",
   "metadata": {
    "ExecuteTime": {
     "end_time": "2025-05-01T17:01:38.272832Z",
     "start_time": "2025-05-01T17:01:38.268802Z"
    }
   },
   "outputs": [
    {
     "name": "stdout",
     "output_type": "stream",
     "text": [
      "Qwen2ForCausalLM(\n",
      "  (model): Qwen2Model(\n",
      "    (embed_tokens): Embedding(151936, 896, padding_idx=151646)\n",
      "    (layers): ModuleList(\n",
      "      (0-23): 24 x Qwen2DecoderLayer(\n",
      "        (self_attn): Qwen2Attention(\n",
      "          (q_proj): Linear4bit(in_features=896, out_features=896, bias=True)\n",
      "          (k_proj): Linear4bit(in_features=896, out_features=128, bias=True)\n",
      "          (v_proj): Linear4bit(in_features=896, out_features=128, bias=True)\n",
      "          (o_proj): Linear4bit(in_features=896, out_features=896, bias=False)\n",
      "          (rotary_emb): LlamaRotaryEmbedding()\n",
      "        )\n",
      "        (mlp): Qwen2MLP(\n",
      "          (gate_proj): Linear4bit(in_features=896, out_features=4864, bias=False)\n",
      "          (up_proj): Linear4bit(in_features=896, out_features=4864, bias=False)\n",
      "          (down_proj): Linear4bit(in_features=4864, out_features=896, bias=False)\n",
      "          (act_fn): SiLU()\n",
      "        )\n",
      "        (input_layernorm): Qwen2RMSNorm((896,), eps=1e-06)\n",
      "        (post_attention_layernorm): Qwen2RMSNorm((896,), eps=1e-06)\n",
      "      )\n",
      "    )\n",
      "    (norm): Qwen2RMSNorm((896,), eps=1e-06)\n",
      "    (rotary_emb): LlamaRotaryEmbedding()\n",
      "  )\n",
      "  (lm_head): Linear(in_features=896, out_features=151936, bias=False)\n",
      ")\n"
     ]
    }
   ],
   "source": [
    "print(model)\n"
   ]
  },
  {
   "cell_type": "markdown",
   "id": "10ef92f8c2b40e2e",
   "metadata": {},
   "source": [
    "```\n",
    "Qwen2ForCausalLM(\n",
    "  # 定义模型的主体部分，包含嵌入层、多层解码器层、归一化层和最终的线性层\n",
    "  (model): Qwen2Model(\n",
    "    # 定义嵌入层，将输入的词汇索引转换为2048维的向量，使用151936作为词汇表大小，padding_idx=151643表示填充词的索引\n",
    "    (embed_tokens): Embedding(151936, 2048, padding_idx=151643)\n",
    "    # 定义一个包含24个Qwen2DecoderLayer的模块列表，每个解码器层包含自注意力机制、多层感知机（MLP）、输入归一化层和后注意力归一化层\n",
    "    (layers): ModuleList(\n",
    "      (0-23): 24 x Qwen2DecoderLayer(\n",
    "        # 定义自注意力机制，包含查询、键、值的线性投影和输出线性投影，以及旋转位置嵌入\n",
    "        (self_attn): Qwen2Attention(\n",
    "          # 查询线性投影，将2048维的输入转换为2048维的输出，并带有偏置\n",
    "          (q_proj): Linear4bit(in_features=2048, out_features=2048, bias=True)\n",
    "          # 键线性投影，将2048维的输入转换为2048维的输出，并带有偏置\n",
    "          (k_proj): Linear4bit(in_features=2048, out_features=2048, bias=True)\n",
    "          # 值线性投影，将2048维的输入转换为2048维的输出，并带有偏置\n",
    "          (v_proj): Linear4bit(in_features=2048, out_features=2048, bias=True)\n",
    "          # 输出线性投影，将2048维的输入转换为2048维的输出，不带偏置\n",
    "          (o_proj): Linear4bit(in_features=2048, out_features=2048, bias=False)\n",
    "          # 旋转位置嵌入，用于在自注意力机制中引入位置信息\n",
    "          (rotary_emb): Qwen2RotaryEmbedding()\n",
    "        )\n",
    "        # 定义多层感知机（MLP），包含门控投影、上投影、下投影和激活函数\n",
    "        (mlp): Qwen2MLP(\n",
    "          # 门控投影，将2048维的输入转换为5504维的输出，不带偏置\n",
    "          (gate_proj): Linear4bit(in_features=2048, out_features=5504, bias=False)\n",
    "          # 上投影，将2048维的输入转换为5504维的输出，不带偏置\n",
    "          (up_proj): Linear4bit(in_features=2048, out_features=5504, bias=False)\n",
    "          # 下投影，将5504维的输入转换为2048维的输出，不带偏置\n",
    "          (down_proj): Linear4bit(in_features=5504, out_features=2048, bias=False)\n",
    "          # 激活函数，使用SiLU（Sigmoid Linear Unit）\n",
    "          (act_fn): SiLU()\n",
    "        )\n",
    "        # 输入归一化层，用于对输入进行归一化处理，eps=1e-06是防止除零的小常数\n",
    "        (input_layernorm): Qwen2RMSNorm((2048,), eps=1e-06)\n",
    "        # 后注意力归一化层，用于对自注意力机制后的输出进行归一化处理，eps=1e-06是防止除零的小常数\n",
    "        (post_attention_layernorm): Qwen2RMSNorm((2048,), eps=1e-06)\n",
    "      )\n",
    "    )\n",
    "    # 最终的归一化层，用于对整个模型的输出进行归一化处理，eps=1e-06是防止除零的小常数\n",
    "    (norm): Qwen2RMSNorm((2048,), eps=1e-06)\n",
    "    # 旋转位置嵌入，用于在整个模型中引入位置信息\n",
    "    (rotary_emb): Qwen2RotaryEmbedding()\n",
    "  )\n",
    "  # 定义语言模型的头（head），将2048维的隐藏状态转换为151936维的输出，不带偏置\n",
    "  (lm_head): Linear(in_features=2048, out_features=151936, bias=False)\n",
    ")\n",
    "```"
   ]
  },
  {
   "cell_type": "markdown",
   "id": "f02d9ee4d73b824a",
   "metadata": {},
   "source": [
    "## Step2：使用LoRA微调模型，更新模型1%-10%的参数\n",
    "\n",
    "LoRA（Low-Rank Adaptation）是一种用于模型微调的优化方法，它通过降低模型的参数数量来提高模型的性能。在微调模型时，可以使用LoRA来更新模型的1%-10%的参数，从而减少模型的参数数量，并提高模型的性能。\n",
    "\n",
    "LoRA:LOW-RANK ADAPTATION OF LARGE LANGUAGE MODELS\n",
    "\n",
    "原理：矩阵A使用高斯初始化，先降维，矩阵B使用全零初始化，然后升维。这里的维度控制参数就是矩阵的秩 **r**，它通常是一个很小的参数 (1,6,8,16)"
   ]
  },
  {
   "cell_type": "code",
   "execution_count": 3,
   "id": "907f797326192ca2",
   "metadata": {
    "ExecuteTime": {
     "end_time": "2025-05-01T17:01:59.253714Z",
     "start_time": "2025-05-01T17:01:57.200475Z"
    }
   },
   "outputs": [
    {
     "name": "stderr",
     "output_type": "stream",
     "text": [
      "Unsloth 2025.4.3 patched 24 layers with 24 QKV layers, 24 O layers and 24 MLP layers.\n"
     ]
    }
   ],
   "source": [
    "# 使用FastLanguageModel获取模型\n",
    "model = FastLanguageModel.get_peft_model(\n",
    "    model,  # 原始的基础模型\n",
    "    r=16,  # LoRA微调的秩（rank），控制参数量和表达能力 建议值是 8 16,32,64,128,256,512,1024\n",
    "    target_modules=[\"q_proj\", \"k_proj\", \"v_proj\", \"o_proj\", \"gate_proj\", \"down_proj\", \"up_proj\"],  # 需要应用LoRA的模块列表，即需要对这些模块进行微调\n",
    "    lora_alpha=16,  # LoRA的缩放因子，影响训练时权重的重要性\n",
    "    lora_dropout=0,  # LoRA层的dropout概率，设置为0表示不使用dropout\n",
    "    bias=\"none\",  # 是否对bias进行微调，\"none\"表示不微调\n",
    "    use_gradient_checkpointing=\"unsloth\",  # 是否使用梯度检查点技术以节省显存，具体实现方式由参数值定义\n",
    "    random_state=3407,  # 随机种子，确保结果可复现\n",
    "    use_rslora=False,  # 是否使用RS-LoRA方法，默认为False\n",
    "    loftq_config=None  # LoFTQ配置，如果需要使用LoFTQ量化方法，可以在此处传入配置\n",
    ")\n"
   ]
  },
  {
   "cell_type": "markdown",
   "id": "b63412eb647c82d1",
   "metadata": {},
   "source": [
    "运行Step2后会生成LoRA相关结构\n",
    "\n",
    "有了这些结构，我们就可以准备数据来进行微调。"
   ]
  },
  {
   "cell_type": "markdown",
   "id": "43989fd13b89da94",
   "metadata": {},
   "source": [
    "## Step3: 使用 alpaca 格式定义数据\n",
    "\n",
    "训练数据必须是 jsonl 格式，包含以下三个字段：\n",
    "- instruction: 输入的提示语，即用户输入的指令或问题\n",
    "- input: 可选的输入，如果存在，则表示用户输入的附加信息\n",
    "- output: 模型的输出结果，即根据输入的指令或问题生成的答案或回复"
   ]
  },
  {
   "cell_type": "code",
   "execution_count": 5,
   "id": "8056c33657a8a97f",
   "metadata": {
    "ExecuteTime": {
     "end_time": "2025-05-01T17:04:45.872967Z",
     "start_time": "2025-05-01T17:04:45.811048Z"
    }
   },
   "outputs": [
    {
     "name": "stderr",
     "output_type": "stream",
     "text": [
      "Generating train split: 232 examples [00:00, 10029.98 examples/s]\n",
      "Map: 100%|███████████████████████████████████████████████| 232/232 [00:00<00:00, 34581.13 examples/s]\n"
     ]
    }
   ],
   "source": [
    "alpaca_prompt = \"\"\"Below is an instruction that describes a task. Write a response that appropriately completes the request.\n",
    "\n",
    "### Instruction:\n",
    "{}\n",
    "\n",
    "### Input:\n",
    "{}\n",
    "\n",
    "### Response:\n",
    "{}\"\"\"\n",
    "\n",
    "# EOS_TOKEN = \"<|endoftext|>\"\n",
    "EOS_TOKEN = tokenizer.eos_token # 截至符号，如果没有的话，模型会一直生成输出，直到达到最大长度\n",
    "def format_prompts_func(examples):\n",
    "    instruction = examples[\"instruction\"]  # 获取指令列表\n",
    "    inputs = examples[\"input\"]  # 获取输入列表\n",
    "    output = examples[\"output\"]  # 获取输出列表\n",
    "    texts = []\n",
    "    for instruction, inputs, output in zip(instruction, inputs, output):\n",
    "        text = alpaca_prompt.format(instruction, inputs, output) + EOS_TOKEN  # 格式化提示文本并添加结束符\n",
    "        texts.append(text)  # 将格式化后的文本添加到列表中\n",
    "    return {\"text\": texts}  # 返回包含格式化文本的字典\n",
    "\n",
    "from datasets import load_dataset\n",
    "dataset = load_dataset('./zh_tranditional/', split='train')  # 加载训练数据集\n",
    "dataset = dataset.map(format_prompts_func, batched=True)  # 应用格式化函数到数据集，批量处理\n"
   ]
  },
  {
   "cell_type": "markdown",
   "id": "c143242dcd1410f3",
   "metadata": {},
   "source": [
    "## Step4: 使用SFTrainer进行微调"
   ]
  },
  {
   "cell_type": "code",
   "execution_count": 6,
   "id": "e7b37dec31e69193",
   "metadata": {
    "ExecuteTime": {
     "end_time": "2025-05-01T17:05:15.295467Z",
     "start_time": "2025-05-01T17:05:13.918052Z"
    }
   },
   "outputs": [
    {
     "name": "stderr",
     "output_type": "stream",
     "text": [
      "Unsloth: Tokenizing [\"text\"] (num_proc=2): 100%|███████████| 232/232 [00:00<00:00, 360.36 examples/s]\n"
     ]
    }
   ],
   "source": [
    "from trl import SFTTrainer\n",
    "from transformers import TrainingArguments\n",
    "from unsloth import is_bfloat16_supported\n",
    "\n",
    "trainer = SFTTrainer(\n",
    "    model=model,\n",
    "    tokenizer=tokenizer,\n",
    "    train_dataset=dataset,\n",
    "    dataset_text_field=\"text\", #可以是input，output，text，也可以是自定义的列名，其实这里的text就是上面format_prompts_func构建的字典\n",
    "    max_seq_length=max_seq_length,\n",
    "    dataset_num_proc=2,\n",
    "    packing=False,\n",
    "    args=TrainingArguments(\n",
    "        per_device_train_batch_size=1,\n",
    "        gradient_accumulation_steps=1,\n",
    "        warmup_steps=5,\n",
    "        # num_train_epochs=1,\n",
    "        max_steps=20,\n",
    "        learning_rate=2e-4,\n",
    "        fp16=not is_bfloat16_supported(),\n",
    "        bf16=is_bfloat16_supported(),\n",
    "        logging_steps=1,\n",
    "        optim=\"adamw_8bit\",\n",
    "        weight_decay=0.01,\n",
    "        lr_scheduler_type=\"linear\",\n",
    "        seed=3407,\n",
    "        output_dir=\"./outputs\",\n",
    "    )\n",
    ")"
   ]
  },
  {
   "cell_type": "code",
   "execution_count": 7,
   "id": "5e844a8a18811880",
   "metadata": {
    "ExecuteTime": {
     "end_time": "2025-05-01T17:05:23.266785Z",
     "start_time": "2025-05-01T17:05:23.261670Z"
    }
   },
   "outputs": [
    {
     "name": "stdout",
     "output_type": "stream",
     "text": [
      "GPU memory: NVIDIA GeForce RTX 3060 Laptop GPU. Max_memory = 6.0 GB.\n",
      "0.633 GB of memory reserved.\n"
     ]
    }
   ],
   "source": [
    "gpu_stats = torch.cuda.get_device_properties(0)\n",
    "start_gpu_memory = round(torch.cuda.max_memory_reserved() / 1024 / 1024 /1024, 3)\n",
    "max_memory = round(gpu_stats.total_memory / 1024 / 1024 / 1024, 3)\n",
    "print(f\"GPU memory: {gpu_stats.name}. Max_memory = {max_memory} GB.\")\n",
    "print(f\"{start_gpu_memory} GB of memory reserved.\")"
   ]
  },
  {
   "cell_type": "code",
   "execution_count": 8,
   "id": "7adfc42db043ba06",
   "metadata": {
    "ExecuteTime": {
     "end_time": "2025-05-01T17:05:32.635751Z",
     "start_time": "2025-05-01T17:05:25.195617Z"
    }
   },
   "outputs": [
    {
     "name": "stderr",
     "output_type": "stream",
     "text": [
      "==((====))==  Unsloth - 2x faster free finetuning | Num GPUs used = 1\n",
      "   \\\\   /|    Num examples = 232 | Num Epochs = 1 | Total steps = 20\n",
      "O^O/ \\_/ \\    Batch size per device = 1 | Gradient accumulation steps = 1\n",
      "\\        /    Data Parallel GPUs = 1 | Total batch size (1 x 1 x 1) = 1\n",
      " \"-____-\"     Trainable parameters = 8,798,208/5,000,000,000 (0.18% trained)\n"
     ]
    },
    {
     "data": {
      "text/html": [
       "\n",
       "    <div>\n",
       "      \n",
       "      <progress value='20' max='20' style='width:300px; height:20px; vertical-align: middle;'></progress>\n",
       "      [20/20 00:05, Epoch 0/1]\n",
       "    </div>\n",
       "    <table border=\"1\" class=\"dataframe\">\n",
       "  <thead>\n",
       " <tr style=\"text-align: left;\">\n",
       "      <th>Step</th>\n",
       "      <th>Training Loss</th>\n",
       "    </tr>\n",
       "  </thead>\n",
       "  <tbody>\n",
       "    <tr>\n",
       "      <td>1</td>\n",
       "      <td>0.056800</td>\n",
       "    </tr>\n",
       "    <tr>\n",
       "      <td>2</td>\n",
       "      <td>0.153300</td>\n",
       "    </tr>\n",
       "    <tr>\n",
       "      <td>3</td>\n",
       "      <td>0.258300</td>\n",
       "    </tr>\n",
       "    <tr>\n",
       "      <td>4</td>\n",
       "      <td>0.129700</td>\n",
       "    </tr>\n",
       "    <tr>\n",
       "      <td>5</td>\n",
       "      <td>0.212300</td>\n",
       "    </tr>\n",
       "    <tr>\n",
       "      <td>6</td>\n",
       "      <td>0.013100</td>\n",
       "    </tr>\n",
       "    <tr>\n",
       "      <td>7</td>\n",
       "      <td>0.129800</td>\n",
       "    </tr>\n",
       "    <tr>\n",
       "      <td>8</td>\n",
       "      <td>0.002800</td>\n",
       "    </tr>\n",
       "    <tr>\n",
       "      <td>9</td>\n",
       "      <td>0.001000</td>\n",
       "    </tr>\n",
       "    <tr>\n",
       "      <td>10</td>\n",
       "      <td>0.001200</td>\n",
       "    </tr>\n",
       "    <tr>\n",
       "      <td>11</td>\n",
       "      <td>0.066100</td>\n",
       "    </tr>\n",
       "    <tr>\n",
       "      <td>12</td>\n",
       "      <td>0.014000</td>\n",
       "    </tr>\n",
       "    <tr>\n",
       "      <td>13</td>\n",
       "      <td>0.001000</td>\n",
       "    </tr>\n",
       "    <tr>\n",
       "      <td>14</td>\n",
       "      <td>0.003100</td>\n",
       "    </tr>\n",
       "    <tr>\n",
       "      <td>15</td>\n",
       "      <td>0.022400</td>\n",
       "    </tr>\n",
       "    <tr>\n",
       "      <td>16</td>\n",
       "      <td>0.043900</td>\n",
       "    </tr>\n",
       "    <tr>\n",
       "      <td>17</td>\n",
       "      <td>0.005400</td>\n",
       "    </tr>\n",
       "    <tr>\n",
       "      <td>18</td>\n",
       "      <td>0.001100</td>\n",
       "    </tr>\n",
       "    <tr>\n",
       "      <td>19</td>\n",
       "      <td>0.074300</td>\n",
       "    </tr>\n",
       "    <tr>\n",
       "      <td>20</td>\n",
       "      <td>0.000800</td>\n",
       "    </tr>\n",
       "  </tbody>\n",
       "</table><p>"
      ],
      "text/plain": [
       "<IPython.core.display.HTML object>"
      ]
     },
     "metadata": {},
     "output_type": "display_data"
    }
   ],
   "source": [
    "trainer_state = trainer.train()"
   ]
  },
  {
   "cell_type": "markdown",
   "id": "3b7db974720f0f79",
   "metadata": {},
   "source": [
    "## Step5: 推理和预测\n",
    "\n",
    "运行微调后的模型：根据输入的instruction和input，模型会生成对应的output。"
   ]
  },
  {
   "cell_type": "code",
   "execution_count": 18,
   "id": "786bd71d722cb637",
   "metadata": {
    "ExecuteTime": {
     "end_time": "2025-05-01T17:30:55.951587Z",
     "start_time": "2025-05-01T17:30:46.857390Z"
    }
   },
   "outputs": [
    {
     "name": "stdout",
     "output_type": "stream",
     "text": [
      "{'input_ids': tensor([[ 38214,    374,    458,   7600,    429,  16555,    264,   3383,     13,\n",
      "           9645,    264,   2033,    429,  34901,  44595,    279,   1681,    382,\n",
      "          14374,  29051,    510,  14880, 100345,  87752,  82025, 104004,  46944,\n",
      "          85106, 102104, 103936,   3407,  14374,   5571,    510, 104455,  20412,\n",
      "         106850,  99602, 104799, 105034, 105167,    271,  14374,   5949,    510]],\n",
      "       device='cuda:0'), 'attention_mask': tensor([[1, 1, 1, 1, 1, 1, 1, 1, 1, 1, 1, 1, 1, 1, 1, 1, 1, 1, 1, 1, 1, 1, 1, 1,\n",
      "         1, 1, 1, 1, 1, 1, 1, 1, 1, 1, 1, 1, 1, 1, 1, 1, 1, 1, 1, 1, 1]],\n",
      "       device='cuda:0')}\n"
     ]
    },
    {
     "data": {
      "text/plain": [
       "['Below is an instruction that describes a task. Write a response that appropriately completes the request.\\n\\n### Instruction:\\n请根据以下文章构建一个需要回答的问题。\\n\\n### Input:\\n人工智能是当今科技领域的热门话题\\n\\n### Response:\\n################################################################################################################################################################################################################################################################################################################################################################################################################################################################################################################################################################################################################################################################################################################################################################################################################################################################################################################################################################################################################################################################']"
      ]
     },
     "execution_count": 18,
     "metadata": {},
     "output_type": "execute_result"
    }
   ],
   "source": [
    "FastLanguageModel.for_inference(model)\n",
    "\n",
    "# 格式化输入\n",
    "formatted_input = alpaca_prompt.format(\n",
    "    \"请根据以下文章构建一个需要回答的问题。\",  # instruction\n",
    "    \"人工智能是当今科技领域的热门话题\",  # input\n",
    "    \"\",  # output\n",
    ")\n",
    "\n",
    "# 编码输入\n",
    "inputs = tokenizer(\n",
    "    [formatted_input],\n",
    "    return_tensors=\"pt\"\n",
    ").to(\"cuda\")\n",
    "print(inputs)\n",
    "\n",
    "outputs = model.generate(**inputs, max_new_tokens=256, use_cache=True)\n",
    "tokenizer.batch_decode(outputs)"
   ]
  },
  {
   "cell_type": "code",
   "execution_count": 16,
   "id": "f1737243bef09327",
   "metadata": {
    "ExecuteTime": {
     "end_time": "2025-05-01T17:28:56.983704Z",
     "start_time": "2025-05-01T17:27:43.917064Z"
    }
   },
   "outputs": [
    {
     "name": "stderr",
     "output_type": "stream",
     "text": [
      "Both `max_new_tokens` (=2048) and `max_length`(=50) seem to have been set. `max_new_tokens` will take precedence. Please refer to the documentation for more information. (https://huggingface.co/docs/transformers/main/en/main_classes/text_generation)\n"
     ]
    }
   ],
   "source": [
    "with torch.no_grad():\n",
    "    outputs = model.generate(\n",
    "        inputs[\"input_ids\"],\n",
    "        attention_mask=inputs[\"attention_mask\"],\n",
    "        max_length=50,  # 控制生成的最大长度\n",
    "        num_return_sequences=1  # 返回的序列数量\n",
    "    )"
   ]
  },
  {
   "cell_type": "code",
   "execution_count": 17,
   "id": "941015243e6a465e",
   "metadata": {
    "ExecuteTime": {
     "end_time": "2025-05-01T17:29:11.899664Z",
     "start_time": "2025-05-01T17:29:11.894914Z"
    }
   },
   "outputs": [
    {
     "name": "stdout",
     "output_type": "stream",
     "text": [
      "Below is an instruction that describes a task. Write a response that appropriately completes the request.\n",
      "\n",
      "### Instruction:\n",
      "请根据以下文章构建一个需要回答的问题。\n",
      "\n",
      "### Input:\n",
      "\n",
      "\n",
      "### Response:\n",
      "####################################################################################################################################################################################################################################################################################################################################################################################################################################################################################################################################################################################################################################################################################################################################################################################################################################################################################################################################################################################################################################################################################################################################################################################################################################################################################################################################//-#######################################-#################################### 1.11.11111111111111111111111111111111111111111111111111111111111111111111111111111111111111111111111111111111111111111111111111111111111111111111111111111111111111111111111111111111111111111111111111111111111111111111111111111111111111111111111111111111111111111111111111111111111111111111111111111111111111111111111111111111111111111111111111111111111111111111111111111111111111111111111111111111111111111111111111111111111111111111111111111111111111111111111111111111111111111111111111111111111111111111111111111111111111111111111111111111111111111111111111111111111111111111111111111111111111111111111111111111111111111111111111111111111111111111111111111111111111111111111111111111111111111111111111111111111111111111111111111111111111111111111111111111111111111111111111111111111111111111111111111111111111111111111111111111111111111111111111111111111111111111111111111111111111111111111111111111111111111111111111111111111111111111111111111111111111111111111111111111111111111111111111111111111111111111111111111111111111111111111111111111111111111111111111111111111111111111111111111111111111111111111111111111111111111111111111111111111111111111111111111111111111111111111111111111111111111111111111111111111111111111111111111111111111111111111111111111111111111111111111111111111111111111111111111111111111111111111111111111111111111111111111111111111111111111111111111111111111111111111111111111111111111111111111111111111111111111111111111111111111111111111111111111111111111111111111111111111111111111111111111111111111111111111111111111111111111111111111111111111111111111111111\n"
     ]
    }
   ],
   "source": [
    "generated_text = tokenizer.decode(outputs[0], skip_special_tokens=True)\n",
    "print(generated_text)"
   ]
  },
  {
   "cell_type": "code",
   "execution_count": null,
   "id": "ceae5bb334b01ad4",
   "metadata": {},
   "outputs": [],
   "source": [
    "# 1. 删除模型引用\n",
    "del model\n",
    "\n",
    "# 2. 强制垃圾回收\n",
    "import gc\n",
    "gc.collect()\n",
    "\n",
    "# 3. 清空CUDA缓存（如果使用GPU）\n",
    "import torch\n",
    "if torch.cuda.is_available():\n",
    "    torch.cuda.empty_cache()\n",
    "\n",
    "# 4. 可选：删除tokenizer（如果需要释放全部资源）\n",
    "del tokenizer"
   ]
  }
 ],
 "metadata": {
  "kernelspec": {
   "display_name": "Python (unsloth_env)",
   "language": "python",
   "name": "unsloth_env"
  },
  "language_info": {
   "codemirror_mode": {
    "name": "ipython",
    "version": 3
   },
   "file_extension": ".py",
   "mimetype": "text/x-python",
   "name": "python",
   "nbconvert_exporter": "python",
   "pygments_lexer": "ipython3",
   "version": "3.11.11"
  }
 },
 "nbformat": 4,
 "nbformat_minor": 5
}
